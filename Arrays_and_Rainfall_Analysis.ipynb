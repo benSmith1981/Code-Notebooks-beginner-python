{
 "cells": [
  {
   "cell_type": "markdown",
   "id": "f745c604",
   "metadata": {},
   "source": [
    "\n",
    "# Introduction to Arrays and Rainfall Analysis\n",
    "\n",
    "This notebook will introduce you to arrays in Python and help you build the skills needed to solve a question like the one shown below:\n",
    "\n",
    "- Calculate the **average rainfall** for a period of days.\n",
    "- Compare each day's rainfall with the average.\n",
    "- Count the number of days where the rainfall was above average.\n",
    "- Output the total number of days with above-average rainfall.\n",
    "\n",
    "Let's start by learning the basics of arrays and build up to solving this problem step by step.\n"
   ]
  },
  {
   "cell_type": "markdown",
   "id": "bf5d8803",
   "metadata": {},
   "source": [
    "\n",
    "## What is an Array?\n",
    "\n",
    "An **array** is a collection of elements, such as numbers, stored in a single variable. In Python, arrays are often implemented using lists.\n",
    "\n",
    "For example:\n",
    "```python\n",
    "rainfall = [12, 17, 0, 2, 8, 17]\n",
    "```\n",
    "\n",
    "In this example, `rainfall` is an array that stores the rainfall for 6 days.\n"
   ]
  },
  {
   "cell_type": "code",
   "execution_count": null,
   "id": "013693c0",
   "metadata": {},
   "outputs": [],
   "source": [
    "\n",
    "# Example: Create an array of rainfall values\n",
    "rainfall = [12, 17, 0, 2, 8, 17]\n",
    "print(\"Rainfall values:\", rainfall)\n"
   ]
  },
  {
   "cell_type": "markdown",
   "id": "2836a92f",
   "metadata": {},
   "source": [
    "\n",
    "## Accessing Elements in an Array\n",
    "\n",
    "You can access individual elements in an array using their index. Remember that Python uses **0-based indexing**.\n",
    "\n",
    "For example:\n",
    "- `rainfall[0]` gives the first element (12).\n",
    "- `rainfall[1]` gives the second element (17).\n",
    "\n",
    "Try accessing elements from the array below:\n"
   ]
  },
  {
   "cell_type": "code",
   "execution_count": null,
   "id": "60671327",
   "metadata": {},
   "outputs": [],
   "source": [
    "\n",
    "# Access elements in the array\n",
    "print(\"First day's rainfall:\", rainfall[0])\n",
    "print(\"Second day's rainfall:\", rainfall[1])\n",
    "print(\"Last day's rainfall:\", rainfall[-1])  # Use -1 for the last element\n"
   ]
  },
  {
   "cell_type": "markdown",
   "id": "ef6e8274",
   "metadata": {},
   "source": [
    "\n",
    "## Calculating the Average Rainfall\n",
    "\n",
    "To calculate the average rainfall:\n",
    "1. Add up all the rainfall values.\n",
    "2. Divide the total by the number of days.\n",
    "\n",
    "In Python, you can use the `sum()` function to calculate the total and `len()` to get the number of days.\n"
   ]
  },
  {
   "cell_type": "code",
   "execution_count": null,
   "id": "986ba044",
   "metadata": {},
   "outputs": [],
   "source": [
    "\n",
    "# Calculate the average rainfall\n",
    "total_rainfall = sum(rainfall)\n",
    "number_of_days = len(rainfall)\n",
    "average_rainfall = total_rainfall / number_of_days\n",
    "\n",
    "print(\"Total Rainfall:\", total_rainfall)\n",
    "print(\"Number of Days:\", number_of_days)\n",
    "print(\"Average Rainfall:\", average_rainfall)\n"
   ]
  },
  {
   "cell_type": "markdown",
   "id": "ff8e67b4",
   "metadata": {},
   "source": [
    "Can you sum up the elements in the rainfall array using a loop, you need to keep track of the total and update this on each iteration of the loop:"
   ]
  },
  {
   "cell_type": "code",
   "execution_count": null,
   "id": "8f2dfee5",
   "metadata": {},
   "outputs": [],
   "source": []
  },
  {
   "cell_type": "markdown",
   "id": "5ca75cf3",
   "metadata": {},
   "source": [
    "\n",
    "## Comparing Rainfall with the Average\n",
    "\n",
    "Once you have the average rainfall, you can compare each day's rainfall to the average. Use a loop to iterate through the array and check if each value is above the average.\n"
   ]
  },
  {
   "cell_type": "code",
   "execution_count": null,
   "id": "323ab0c4",
   "metadata": {},
   "outputs": [],
   "source": [
    "\n",
    "# Compare each day's rainfall with the average\n",
    "above_average_days = 0\n",
    "\n",
    "for rain in rainfall:\n",
    "    if rain > average_rainfall:\n",
    "        above_average_days += 1\n",
    "\n",
    "print(\"Number of days with above-average rainfall:\", above_average_days)\n"
   ]
  },
  {
   "cell_type": "markdown",
   "id": "87e491fc",
   "metadata": {},
   "source": [
    "\n",
    "## Challenge: Write Your Own Code\n",
    "\n",
    "1. Create a new array with 10 rainfall values.\n",
    "2. Calculate the total rainfall, the number of days, and the average rainfall.\n",
    "3. Count the number of days with above-average rainfall.\n",
    "\n",
    "**Hint:** Use the steps we covered in this notebook!\n"
   ]
  },
  {
   "cell_type": "code",
   "execution_count": null,
   "id": "91d3a97f",
   "metadata": {},
   "outputs": [],
   "source": []
  },
  {
   "cell_type": "markdown",
   "id": "64d92038",
   "metadata": {},
   "source": [
    "## Energy Consumption Monitoring System\n",
    "A city council is developing an energy consumption monitoring system to analyze the daily electricity usage of households over a period of 50 days. The daily electricity usage (in kWh) is stored in a list called EnergyUsage.\n",
    "\n",
    "A part of this list is shown below:\n",
    "\n",
    "| Index   | Energy Usage (kWh)   |\n",
    "|:--------|:---------------------|\n",
    "| 0       | 14                   |\n",
    "| 1       | 18                   |\n",
    "| 2       | 12                   |\n",
    "| 3       | 20                   |\n",
    "| ...     | ...                  |\n",
    "| 48      | 25                   |\n",
    "| 49      | 15                   |\n",
    "\n",
    "\n",
    "\n",
    "The rules for analyzing the energy usage data are:\n",
    "\n",
    "Calculate the average energy usage for the last 50 days.\n",
    "Compare each day’s energy usage with the average.\n",
    "Count the total number of days where the energy usage was above average.\n",
    "Output the total number of days where the energy usage was above average.\n",
    "\n",
    "\n",
    "## Develop a section of code that will:\n",
    "Calculate and store the average energy usage.\n",
    "Loop through the EnergyUsage list and compare each day’s usage to the average.\n",
    "Count how many days had above-average energy usage.\n",
    "Print the total number of days with above-average energy usage."
   ]
  },
  {
   "cell_type": "code",
   "execution_count": null,
   "id": "3a9e3b81",
   "metadata": {},
   "outputs": [],
   "source": [
    "energy_readings = [14, 18, 12, 20, 25, 15, 22, 19, 17, 21, 16, 24, 14, 18, 19, 20, 23, 15, 14, 22, 17, 16, 25, 20, 18, 19, 21, 22, 23, 16, 15, 20, 24, 17, 18, 22, 21, 20, 19, 25, 23, 16, 17, 18, 24, 22, 20, 21, 19, 15]\n"
   ]
  }
 ],
 "metadata": {
  "language_info": {
   "name": "python"
  }
 },
 "nbformat": 4,
 "nbformat_minor": 5
}
