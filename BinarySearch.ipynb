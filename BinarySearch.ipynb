{
 "cells": [
  {
   "cell_type": "markdown",
   "metadata": {},
   "source": [
    "# Search Algorithms in Python\n",
    "\n",
    "In this notebook, we will:\n",
    "1. Explain and demonstrate **Linear Search**.\n",
    "2. Explain and demonstrate **Binary Search**.\n",
    "3. Discuss **time complexities** of both methods.\n",
    "4. Provide **exercises** to help you identify and fix code issues.\n"
   ]
  },
  {
   "cell_type": "markdown",
   "metadata": {},
   "source": [
    "## 1. Linear Search\n",
    "\n",
    "**Linear search** (also called *sequential search*) checks each element in a list, one by one, until it finds the target value or reaches the end of the list.\n",
    "\n",
    "Steps:\n",
    "1. Start at the first element of the list.\n",
    "2. Compare the target value to the current element.\n",
    "3. If they match, return the current index.\n",
    "4. If they don’t match, move to the next element.\n",
    "5. Continue until the value is found or the list ends.\n",
    "\n",
    "### Big-O Time Complexity\n",
    "- In the **worst case** or if the item is not present, we check all `n` elements, making it an \\(O(n)\\) algorithm.\n",
    "- In the **best case**, if the target is the first element, the search finishes in a single comparison \\(O(1)\\)."
   ]
  },
  {
   "cell_type": "code",
   "metadata": {},
   "source": [
    "def linear_search(lst, target):\n",
    "    \"\"\"\n",
    "    Returns the index of target in lst, or -1 if not found.\n",
    "    Time Complexity: O(n)\n",
    "    \"\"\"\n",
    "    for i in range(len(lst)):\n",
    "        if lst[i] == target:\n",
    "            return i\n",
    "    return -1\n",
    "\n",
    "# Quick demo\n",
    "numbers = [7, 2, 8, 1, 5]\n",
    "print(\"List:\", numbers)\n",
    "print(\"Index of 8:\", linear_search(numbers, 8))  # Should return 2\n",
    "print(\"Index of 9:\", linear_search(numbers, 9))  # Should return -1 (not found)"
   ],
   "execution_count": null,
   "outputs": []
  },
  {
   "cell_type": "markdown",
   "metadata": {},
   "source": [
    "## 2. Binary Search\n",
    "\n",
    "**Binary search** works on a **sorted** list by repeatedly dividing the search interval in half.\n",
    "\n",
    "Steps:\n",
    "1. Check the middle element of the list.\n",
    "2. If it matches the target, return the middle index.\n",
    "3. If the target is less than the middle element, repeat the search on the left half.\n",
    "4. If the target is greater than the middle element, repeat the search on the right half.\n",
    "5. Continue until the value is found or the sub-list is empty.\n",
    "\n",
    "### Big-O Time Complexity\n",
    "- In the **worst case**, binary search eliminates half the list each time, leading to \\(O(\\log n)\\) performance.\n",
    "- **Important**: The list *must* be sorted for binary search to work correctly."
   ]
  },
  {
   "cell_type": "code",
   "metadata": {},
   "source": [
    "def binary_search(lst, target):\n",
    "    \"\"\"\n",
    "    Returns the index of target in lst using binary search, or -1 if not found.\n",
    "    Assumes lst is sorted in ascending order.\n",
    "    Time Complexity: O(log n)\n",
    "    \"\"\"\n",
    "    low = 0\n",
    "    high = len(lst) - 1\n",
    "\n",
    "    while low <= high:\n",
    "        mid = (low + high) // 2\n",
    "        if lst[mid] == target:\n",
    "            return mid\n",
    "        elif lst[mid] < target:\n",
    "            low = mid + 1\n",
    "        else:\n",
    "            high = mid - 1\n",
    "\n",
    "    return -1\n",
    "\n",
    "# Quick demo\n",
    "sorted_numbers = [1, 3, 4, 7, 9, 12, 18, 21]\n",
    "print(\"Sorted List:\", sorted_numbers)\n",
    "print(\"Index of 9:\", binary_search(sorted_numbers, 9))   # Should return 4\n",
    "print(\"Index of 10:\", binary_search(sorted_numbers, 10))  # Should return -1"
   ],
   "execution_count": null,
   "outputs": []
  },
  {
   "cell_type": "markdown",
   "metadata": {},
   "source": [
    "## 3. Comparing Search Times\n",
    "\n",
    "- **Linear Search**: \\(O(n)\\). If the list has 1 million elements, in the worst case you do ~1 million comparisons.\n",
    "- **Binary Search**: \\(O(\\log n)\\). If the list has 1 million *sorted* elements, you do around \\(\\log_2(1{,}000{,}000)\\) ≈ 20 comparisons in the worst case.\n",
    "\n",
    "Hence, for large lists, binary search is much faster — but *only* if the data is sorted!"
   ]
  },
  {
   "cell_type": "markdown",
   "metadata": {},
   "source": [
    "## 4. Exercise: Identify & Fix Broken Code\n",
    "\n",
    "Below is a **single code snippet** that attempts both linear and binary searches, but it **breaks PEP 8 style guidelines** and also has a few **logic/format errors**. Your job:\n",
    "\n",
    "1. Identify the issues in naming, spacing, indentation, and logic.\n",
    "2. Rewrite the code in a clean, correct, PEP 8–compliant manner.\n",
    "3. Test your fixed code with a few examples.\n"
   ]
  },
  {
   "cell_type": "code",
   "metadata": {},
   "source": [
    "# BROKEN SEARCH CODE: Please do NOT run as-is; fix it first!\n",
    "def searchData(theList, TheTarget, method=\"lin\"):\n",
    "  if ( method==\"lin\"):\n",
    "    for x in  range(len(theList)):\n",
    "     if theList[x] == TheTarget:\n",
    "       return x\n",
    "    return -1 \n",
    "  elif method==\"binary\":\n",
    "       lower=0\n",
    "       upper=len(theList)-1\n",
    "       while(lower<=upper):\n",
    "        mid=(lower+upper)//2\n",
    "        if theList[mid]==TheTarget:\n",
    "         return mid\n",
    "        elif theList[mid]<TheTarget: lower=mid+1\n",
    "        else: upper= mid-1\n",
    "       return -1\n",
    "  else:\n",
    "   print(\"Unknown method \", method)  \n",
    "\n",
    "# Hints/Things to Fix:\n",
    "# 1) PEP 8 suggests snake_case naming: e.g., search_data() vs. searchData().\n",
    "# 2) Indentation: each level should be 4 spaces.\n",
    "# 3) Spacing around operators, after commas.\n",
    "# 4) Overly short variable names or capital letters for local variables?\n",
    "# 5) Overall readability: break out code and keep structure consistent.\n",
    "# 6) Test logic thoroughly after fixing.\n"
   ],
   "execution_count": null,
   "outputs": []
  },
  {
   "cell_type": "markdown",
   "metadata": {},
   "source": [
    "----\n",
    "**Next Steps**:\n",
    "1. Copy the broken code into a fresh cell.\n",
    "2. Fix spacing, naming, indentation, logic.\n",
    "3. Confirm it runs properly by testing with sample lists.\n",
    "4. Compare your fixed code to your instructor’s solution or a peer’s solution."
   ]
  }
 ],
 "metadata": {
  "kernelspec": {
   "display_name": "Python 3",
   "language": "python",
   "name": "python3"
  },
  "language_info": {
   "codemirror_mode": {
    "name": "ipython",
    "version": 3
   },
   "file_extension": ".py",
   "mimetype": "text/x-python",
   "name": "python",
   "nbconvert_exporter": "python",
   "pygments_lexer": "ipython3",
   "version": "3.9"
  }
 },
 "nbformat": 4,
 "nbformat_minor": 5
}
