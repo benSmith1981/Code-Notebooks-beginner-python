{
 "cells": [
  {
   "cell_type": "markdown",
   "metadata": {},
   "source": [
    "# Title: Making decisions based on values of input or variables\n",
    "Imagine you made a parking fee machine, you had to ask the user for type of the vehicle (car or truck) and then ask them how long they stayed... how could you write this program out simply hard coding the values also asking them for input too?\n",
    "\n",
    "If you have a car and you park over 5 hours fee is £20 else it is £10\n",
    "If you have a truck and parked under 8 hours, fee is £25 else it is £30"
   ]
  },
  {
   "cell_type": "code",
   "execution_count": 2,
   "metadata": {},
   "outputs": [
    {
     "name": "stdout",
     "output_type": "stream",
     "text": [
      "hi\n"
     ]
    }
   ],
   "source": [
    "vehicleType = \"car\"\n",
    "hoursStayed = input(\"how many hours did you stay?\")\n"
   ]
  },
  {
   "cell_type": "markdown",
   "metadata": {},
   "source": [
    "# Can you fill in this trace table based on the code you wrote?\n",
    "\n",
    "Table: Complete the Monthly Fee\n",
    "\n",
    "| Vehicle Type     | Hours Stayed  | ParkingFee |\n",
    "|------------------|---------------|------------|\n",
    "| Car              | 3             |            |\n",
    "| Truck            | 10            |            |\n",
    "| Truck            | 7             |            |\n",
    "| Car              | 6             |            |"
   ]
  },
  {
   "cell_type": "markdown",
   "metadata": {},
   "source": [
    "# Scenario:\n",
    "A movie streaming service determines the monthly subscription fee based on the user's subscription plan and the number of movies watched. They have 3 variables:\n",
    "SubscriptionPlan - this is a string can be basic, premium or platinum\n",
    "MoviesWatched - this is the total number of films watched that month\n",
    "MonthlyFee - this is the value ouputted based on number of films watched and movies watched\n",
    "\n",
    "Write a program based on the following criteria:\n",
    "\n",
    "If the subscription is basic and the number of films watched is greater than 10 Set monthly fee  to 20 else set monthly fee to 10\n",
    "\n",
    "Else If subscription is premium if movies watched is greater than 30 set monthlyfee to 25 else set the monthlyfee to 20\n",
    "\n",
    "Else the subscription is platinum and set monthly fee to 40"
   ]
  },
  {
   "cell_type": "code",
   "execution_count": null,
   "metadata": {},
   "outputs": [],
   "source": []
  },
  {
   "cell_type": "markdown",
   "metadata": {},
   "source": [
    "# Can you fill in this trace table based on the code you wrote?\n",
    "\n",
    "Table: Complete the Monthly Fee\n",
    "\n",
    "| SubscriptionPlan | MoviesWatched | MonthlyFee |\n",
    "|------------------|---------------|------------|\n",
    "| Basic            | 8             |            |\n",
    "| Premium          | 25            |            |\n",
    "| Premium          | 15            |            |\n",
    "| Basic            | 12            |            |\n",
    "| Platinum         | 70            |            |"
   ]
  },
  {
   "cell_type": "markdown",
   "metadata": {},
   "source": [
    "# Stretch Task: Build a Subscription Fee Calculator\n",
    "Write a program for a movie streaming service that calculates the monthly subscription fee based on the user's subscription plan and the number of movies watched.\n",
    "\n",
    "### Requirements\n",
    "Ask the user for 2 inputs, number of movies watched and subscription they want. Create a function you call from your main program where you pass these inputs as parameters.\n",
    "\n",
    "### Input Validation:\n",
    "- Prompt the user to input their subscription plan. Ensure the input is one of the valid options: \"basic\", \"premium\", or \"platinum\".\n",
    "- Prompt the user to input the number of movies they watched. Ensure this is a positive integer.\n",
    "Calculate the Monthly Fee:\n",
    "\n",
    "The function to check fee is based on the following rules:\n",
    "- If the subscription is basic: If the number of movies watched is greater than 10, the monthly fee is $20.\n",
    "Otherwise, the monthly fee is $10.\n",
    "- If the subscription is premium: If the number of movies watched is greater than 30, the monthly fee is $25.\n",
    "- Otherwise, the monthly fee is $20.\n",
    "- If the subscription is platinum: The monthly fee is always $40.\n",
    "- The function returns the result\n",
    "\n",
    "Output the Result:\n",
    "\n",
    "- Display the subscription plan, the number of movies watched, and the calculated monthly fee.\n",
    "\n",
    "\n",
    "## Stretch Goals\n",
    "\n",
    "- Allow the program to calculate the total yearly fee for the user (12 months based on the same subscription and movie-watching pattern).\n",
    "- Format the fee to 2 decimal places.\n",
    "- Add a feature to suggest upgrading plans based on their movie-watching habits: Example: If a basic user watches more than 30 movies, suggest upgrading to premium.\n",
    "- Create a loop so the program can handle multiple users until the user decides to quit."
   ]
  }
 ],
 "metadata": {
  "kernelspec": {
   "display_name": "Python 3",
   "language": "python",
   "name": "python3"
  },
  "language_info": {
   "codemirror_mode": {
    "name": "ipython",
    "version": 3
   },
   "file_extension": ".py",
   "mimetype": "text/x-python",
   "name": "python",
   "nbconvert_exporter": "python",
   "pygments_lexer": "ipython3",
   "version": "3.12.0"
  }
 },
 "nbformat": 4,
 "nbformat_minor": 2
}
