{
 "cells": [
  {
   "cell_type": "markdown",
   "metadata": {},
   "source": [
    "# Python: Validation and error handling\n",
    "## Presence Check Example​\n",
    "Sometimes we want to check for the presence of a variable so we can check to see if a string is empty or not...\n",
    "\n",
    ".strip() strips any white spaces incase the person enters spaces and not text"
   ]
  },
  {
   "cell_type": "code",
   "execution_count": null,
   "metadata": {},
   "outputs": [],
   "source": [
    "input_value = input(\"Enter your name: \")\n",
    "\n",
    "if input_value.strip() == \"\":\n",
    "    print(\"Error: Name cannot be empty!\")"
   ]
  },
  {
   "cell_type": "markdown",
   "metadata": {},
   "source": [
    "## Length Check Example​\n",
    "Sometimes we need to check an input is of a certain length, we use the len function to get the length of any string or array"
   ]
  },
  {
   "cell_type": "code",
   "execution_count": null,
   "metadata": {},
   "outputs": [],
   "source": [
    "password = input(\"Enter your password: \")\n",
    "#Write the code here to check if the password is less than 8 characters"
   ]
  },
  {
   "cell_type": "markdown",
   "metadata": {},
   "source": [
    "## Type Check Example​\n",
    "We may want to check the type of a variable, what other type checks are there, can you write the code for them?"
   ]
  },
  {
   "cell_type": "code",
   "execution_count": null,
   "metadata": {},
   "outputs": [],
   "source": [
    "age = input(\"Enter your age: \")\n",
    "if not age.isdigit():\n",
    "    print(\"Error: Age must be a number!\")\n",
    "\n",
    "#ask for an input string and check if this is a string\n",
    "# isdigit(): Checks if the input contains only digits.\n",
    "# isalpha(): Checks if the input contains only letters.\n",
    "# isalnum(): Checks if the input contains only letters and numbers.\n",
    "\n"
   ]
  },
  {
   "cell_type": "markdown",
   "metadata": {},
   "source": [
    "## Format Check Example​\n",
    "We may want to check if an email contains and @ and the last part contains a dot .  e.g. ben@gmail.com"
   ]
  },
  {
   "cell_type": "code",
   "execution_count": null,
   "metadata": {},
   "outputs": [],
   "source": [
    "email = input(\"Enter your email: \")\n",
    "\n",
    "# [-1] gets the last element after the @ so the gmail.com where \n",
    "# a dot should be present\n",
    "if \"@\" not in email or \".\" not in email.split(\"@\")[-1]:\n",
    "    print(\"Error: Invalid email format!\")\n"
   ]
  },
  {
   "cell_type": "markdown",
   "metadata": {},
   "source": [
    "## Range Check Example​\n",
    "You may want to validate an input is within a certain range"
   ]
  },
  {
   "cell_type": "code",
   "execution_count": null,
   "metadata": {},
   "outputs": [],
   "source": [
    "score = int(input(\"Enter your score (0-100): \"))\n",
    "#write the code here to check if score is between 0 and 100"
   ]
  },
  {
   "cell_type": "markdown",
   "metadata": {},
   "source": [
    "## Check Digit Example​\n",
    "Check a input is a certain length and type, combine conditions"
   ]
  },
  {
   "cell_type": "code",
   "execution_count": null,
   "metadata": {},
   "outputs": [],
   "source": [
    "\n",
    "isbn = input(\"Enter a 13-digit ISBN: \")\n",
    "#write the code to test is isbn is 13 digits long and is a digit"
   ]
  },
  {
   "cell_type": "markdown",
   "metadata": {},
   "source": [
    "## Handling Exceptions with try-except​\n",
    "You can use try except blocks to test if an input is valid or not so that the progam does not crash, but will fail gracefully with an error"
   ]
  },
  {
   "cell_type": "code",
   "execution_count": null,
   "metadata": {},
   "outputs": [],
   "source": [
    "try:\n",
    "    number = input(\"Enter a number to divide by: \")\n",
    "    result = 100/number\n",
    "    print(f\"Result is {result}\")\n",
    "except ZeroDivisionError:\n",
    "    print(\"Cannot divide by zero\")\n",
    "except ValueError:\n",
    "    print(\"Error: Invalid Input! Please enter a numer\")\n",
    "except Exception as e:\n",
    "    print(f\"Error occurred {e}\")"
   ]
  },
  {
   "cell_type": "markdown",
   "metadata": {},
   "source": [
    "# Tasks"
   ]
  },
  {
   "cell_type": "markdown",
   "metadata": {},
   "source": [
    "1) Presence Check with Error Handling:​\n",
    "\n",
    "Write a program that prompts the user to enter their name and ensures it is not empty. Use try-except to catch errors if the input function fails unexpectedly.​"
   ]
  },
  {
   "cell_type": "code",
   "execution_count": null,
   "metadata": {},
   "outputs": [],
   "source": []
  },
  {
   "cell_type": "markdown",
   "metadata": {},
   "source": [
    "2) Type Check with Error Handling:​\n",
    "\n",
    "Create a program that asks the user for their age. Use try-except to catch errors if the user enters non-numeric input.​\n",
    "\n"
   ]
  },
  {
   "cell_type": "code",
   "execution_count": null,
   "metadata": {},
   "outputs": [],
   "source": []
  },
  {
   "cell_type": "markdown",
   "metadata": {},
   "source": [
    "3)  Division with Error Handling:​\n",
    "\n",
    "Write a program that divides 100 by a number entered by the user. Use try-except to catch division by zero and invalid input errors.​"
   ]
  },
  {
   "cell_type": "code",
   "execution_count": null,
   "metadata": {},
   "outputs": [],
   "source": []
  },
  {
   "cell_type": "markdown",
   "metadata": {},
   "source": [
    "4) File Handling with Error Handling:​\n",
    "\n",
    "Write a program that opens a file for reading. Use try-except to handle cases where the file does not exist or cannot be opened.​"
   ]
  },
  {
   "cell_type": "code",
   "execution_count": null,
   "metadata": {},
   "outputs": [],
   "source": []
  },
  {
   "cell_type": "markdown",
   "metadata": {},
   "source": [
    "5) Complex Input Validation:​\n",
    "\n",
    "Write a program that validates an email address entered by the user. Use try-except to handle unexpected errors, and ensure the email has a valid format (e.g., contains @ and a domain)."
   ]
  },
  {
   "cell_type": "code",
   "execution_count": null,
   "metadata": {},
   "outputs": [],
   "source": []
  },
  {
   "cell_type": "markdown",
   "metadata": {},
   "source": [
    "## These exceptions are frequently encountered in Python programs:\n",
    "\n",
    "ArithmeticError\tBase class for arithmetic-related errors.\n",
    "\n",
    "ZeroDivisionError\tRaised when dividing by zero.\n",
    "\n",
    "OverflowError\tRaised when a calculation exceeds the range of the data type (e.g., too large for int).\n",
    "\n",
    "ValueError\tRaised when an operation or function receives an invalid argument (e.g., int(\"abc\")).\n",
    "\n",
    "TypeError\tRaised when an operation is performed on an unsupported data type.\n",
    "\n",
    "IndexError\tRaised when trying to access an index that is out of range in a list or sequence.\n",
    "\n",
    "KeyError\tRaised when trying to access a dictionary key that doesn’t exist.\n",
    "\n",
    "NameError\tRaised when a variable or name is not defined.\n",
    "\n",
    "UnboundLocalError\tSubclass of NameError for accessing a local variable before it's assigned a value.\n",
    "\n",
    "FileNotFoundError\tRaised when attempting to open a file that does not exist.\n",
    "\n",
    "IOError\tRaised when an I/O operation fails (e.g., file read/write).\n",
    "\n",
    "AttributeError\tRaised when an invalid attribute reference is made.\n",
    "\n",
    "RuntimeError\tRaised when an error occurs that doesn’t fit another category.\n",
    "\n",
    "ImportError\tRaised when a module cannot be imported.\n",
    "\n",
    "ModuleNotFoundError\tSubclass of ImportError, raised when a module cannot be found.\n",
    "\n",
    "StopIteration\tRaised when an iterator is exhausted.\n",
    "\n",
    "KeyboardInterrupt\tRaised when the user interrupts program execution (e.g., pressing Ctrl+C).\n",
    "\n",
    "SyntaxError\tRaised when there is a syntax error in the code.\n",
    "\n",
    "IndentationError\tRaised when the code is improperly indented.\n",
    "\n",
    "NotImplementedError\tRaised when a feature or function is not implemented.\n",
    "\n",
    "Arithmetic and Numeric Exceptions\n",
    "\n",
    "\n",
    "These exceptions deal with numeric operations:\n",
    "\n",
    "Exception Name\tDescription\n",
    "\n",
    "FloatingPointError\tRaised when a floating-point operation fails.\n",
    "\n",
    "ArithmeticError\tBase class for all arithmetic exceptions (e.g., ZeroDivisionError).\n",
    "\n",
    "OverflowError\tRaised when the result of a calculation is too large to handle."
   ]
  }
 ],
 "metadata": {
  "language_info": {
   "name": "python"
  }
 },
 "nbformat": 4,
 "nbformat_minor": 2
}
