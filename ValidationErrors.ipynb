{
 "cells": [
  {
   "cell_type": "markdown",
   "metadata": {},
   "source": [
    "# Python: Validation and error handling\n",
    "## Presence Check Example​\n",
    "Sometimes we want to check for the presence of a variable so we can check to see if a string is empty or not...\n",
    "\n",
    ".strip() strips any white spaces incase the person enters spaces and not text"
   ]
  },
  {
   "cell_type": "code",
   "execution_count": null,
   "metadata": {},
   "outputs": [],
   "source": [
    "\n",
    "name = \"\"\n",
    "#Create a while loop that keeps looping whil name is empty string\n",
    "#Ask them for input for the name\n",
    "#Inside while loop check to see if a name has been input, warn them cannot enter and empty string\n"
   ]
  },
  {
   "cell_type": "markdown",
   "metadata": {},
   "source": [
    "## Length Check Example​\n",
    "Sometimes we need to check an input is of a certain length, we use the len function to get the length of any string or array"
   ]
  },
  {
   "cell_type": "code",
   "execution_count": null,
   "metadata": {},
   "outputs": [],
   "source": [
    "password = input(\"Enter your password: \")\n",
    "# Write the code here to check if the password is less than 8 characters, \n",
    "# and keeps asking them until they do this correctly\n"
   ]
  },
  {
   "cell_type": "markdown",
   "metadata": {},
   "source": [
    "## Type Check Example​\n",
    "We may want to check the type of a variable, what other type checks are there, can you write the code for them? Update this to use a while loop so they kept asking this until they enter a valid input"
   ]
  },
  {
   "cell_type": "code",
   "execution_count": null,
   "metadata": {},
   "outputs": [],
   "source": [
    "age = input(\"Enter your age: \")\n",
    "if not age.isdigit():\n",
    "    print(\"Error: Age must be a number!\")\n",
    "\n",
    "#ask for an input string and check if this is a string\n",
    "# isdigit(): Checks if the input contains only digits.\n",
    "# isalpha(): Checks if the input contains only letters.\n",
    "# isalnum(): Checks if the input contains only letters and numbers.\n",
    "\n"
   ]
  },
  {
   "cell_type": "markdown",
   "metadata": {},
   "source": [
    "## Format Check Example​\n",
    "We may want to check if an email contains and @ and the last part contains a dot .  e.g. ben@gmail.com"
   ]
  },
  {
   "cell_type": "code",
   "execution_count": null,
   "metadata": {},
   "outputs": [],
   "source": [
    "email = input(\"Enter your email: \")\n",
    "\n",
    "# [-1] gets the last element after the @ so the gmail.com where \n",
    "# a dot should be present\n",
    "if \"@\" not in email or \".\" not in email.split(\"@\")[-1]:\n",
    "    print(\"Error: Invalid email format!\")\n"
   ]
  },
  {
   "cell_type": "markdown",
   "metadata": {},
   "source": [
    "## Range Check Example​\n",
    "You may want to validate an input is within a certain range"
   ]
  },
  {
   "cell_type": "code",
   "execution_count": null,
   "metadata": {},
   "outputs": [],
   "source": [
    "score = int(input(\"Enter your score (0-100): \"))\n",
    "#write the code here to check if score is between 0 and 100, use a while loop to keep asking them this"
   ]
  },
  {
   "cell_type": "markdown",
   "metadata": {},
   "source": [
    "## Check Digit Example​\n",
    "Check a input is a certain length and type, combine conditions"
   ]
  },
  {
   "cell_type": "code",
   "execution_count": null,
   "metadata": {},
   "outputs": [],
   "source": [
    "\n",
    "isbn = input(\"Enter a 13-digit ISBN: \")\n",
    "#write the code to test is isbn is 13 digits long and is a digit"
   ]
  },
  {
   "cell_type": "markdown",
   "metadata": {},
   "source": [
    "## We can put all these checks in try-except blocks to gracefully handle exceptions ​\n",
    "You can use try except blocks to test if an input is valid or not so that the progam does not crash, but will fail gracefully with an error... \n",
    "\n",
    "e.g. You can test if the user enters a correct input, we sometimes want a number but they could enter a sting"
   ]
  },
  {
   "cell_type": "code",
   "execution_count": null,
   "metadata": {},
   "outputs": [],
   "source": [
    "try:\n",
    "    int(input(\"Enter a number\"))\n",
    "except Exception as e:\n",
    "    print(e)"
   ]
  },
  {
   "cell_type": "markdown",
   "metadata": {},
   "source": [
    "You can also test for existence of files for example, IOError Raised when an I/O operation fails (e.g., file read/write)"
   ]
  },
  {
   "cell_type": "code",
   "execution_count": 4,
   "metadata": {},
   "outputs": [
    {
     "name": "stdout",
     "output_type": "stream",
     "text": [
      "An IOError occurred: [Errno 2] No such file or directory: 'non_existendt_file.txt'\n"
     ]
    }
   ],
   "source": [
    "try:\n",
    "    with open('non_existent_file.txt', 'r') as f:\n",
    "        data = f.read()\n",
    "except Exception as e:\n",
    "    print(f\"An IOError occurred: {e}\")"
   ]
  },
  {
   "cell_type": "markdown",
   "metadata": {},
   "source": [
    "### Task: Update the validate function to check for valid entry in a tkinter field"
   ]
  },
  {
   "cell_type": "code",
   "execution_count": null,
   "metadata": {},
   "outputs": [],
   "source": [
    "import tkinter as tk\n",
    "from tkinter import messagebox\n",
    "\n",
    "def validate():\n",
    "    \"\"\"Perform validation on form fields.\"\"\"\n",
    "    name = fields[\"Name\"].get().strip()\n",
    "    #get the other data from the fields dictionary\n",
    "\n",
    "    # Validate name (non-empty), return error message if invalid\n",
    "    \n",
    "\n",
    "    # Validate email (basic format check), return error message if invalid\n",
    "    \n",
    "\n",
    "    # Validate password (minimum length 6), return error message if invalid\n",
    "    \n",
    "\n",
    "    # Validate age (must be a positive integer), return error message if invalid\n",
    "\n",
    "\n",
    "    return None  # No errors\n",
    "\n",
    "def submit():\n",
    "    \"\"\"Handle form submission.\"\"\"\n",
    "    error = validate()\n",
    "    if error:\n",
    "        messagebox.showerror(\"Validation Error\", error)\n",
    "    else:\n",
    "        # Show the entered data if validation passes\n",
    "        name = fields[\"Name\"].get()\n",
    "        email = fields[\"Email\"].get()\n",
    "        password = fields[\"Password\"].get()\n",
    "        age = fields[\"Age\"].get()\n",
    "\n",
    "        formatted_data = f\"Name: {name}\\nEmail: {email}\\nPassword: {password}\\nAge: {age}\"\n",
    "        messagebox.showinfo(\"Form Data\", f\"Submitted Data:\\n{formatted_data}\")\n",
    "\n",
    "# Create the main tkinter window\n",
    "root = tk.Tk()\n",
    "\n",
    "root.title(\"User Form\")\n",
    "\n",
    "# Form fields, this is a dictionary of field names and their corresponding StringVar objects\n",
    "fields = {\n",
    "    \"Name\": tk.StringVar(),\n",
    "    \"Email\": tk.StringVar(),\n",
    "    \"Password\": tk.StringVar(),\n",
    "    \"Age\": tk.StringVar(),\n",
    "}\n",
    "\n",
    "# Create form labels and entry widgets explicitly for each field\n",
    "tk.Label(root, text=\"Name\").grid(row=0, column=0, padx=10, pady=5, sticky=\"w\")\n",
    "tk.Entry(root, textvariable=fields[\"Name\"]).grid(row=0, column=1, padx=10, pady=5)\n",
    "\n",
    "# Email field\n",
    "tk.Label(root, text=\"Email\").grid(row=1, column=0, padx=10, pady=5, sticky=\"w\")\n",
    "tk.Entry(root, textvariable=fields[\"Email\"]).grid(row=1, column=1, padx=10, pady=5)\n",
    "\n",
    "# Password field\n",
    "tk.Label(root, text=\"Password\").grid(row=2, column=0, padx=10, pady=5, sticky=\"w\")\n",
    "tk.Entry(root, textvariable=fields[\"Password\"], show=\"*\").grid(row=2, column=1, padx=10, pady=5)\n",
    "\n",
    "# Age field\n",
    "tk.Label(root, text=\"Age\").grid(row=3, column=0, padx=10, pady=5, sticky=\"w\")\n",
    "tk.Entry(root, textvariable=fields[\"Age\"]).grid(row=3, column=1, padx=10, pady=5)\n",
    "\n",
    "# Submit button\n",
    "tk.Button(root, text=\"Submit\", command=submit).grid(row=4, column=0, columnspan=2, pady=10)\n",
    "\n",
    "root.mainloop()\n"
   ]
  },
  {
   "cell_type": "markdown",
   "metadata": {},
   "source": [
    "Task:\n",
    "\n",
    "Write some code that:\n",
    "- Keeps looping in a while loop while their \"answer\" input is Y, quits if is N\n",
    "- Asks the user for a number to input, then divides 100 by this number and prints the result\n",
    "- Uses a try except block that will test if the users input is a number, or if they enter zero will catch this\n",
    "- You can also add an else case that asks them if they want to enter another number"
   ]
  },
  {
   "cell_type": "code",
   "execution_count": 4,
   "metadata": {},
   "outputs": [
    {
     "name": "stdout",
     "output_type": "stream",
     "text": [
      "Error occurred unsupported operand type(s) for /: 'int' and 'str'\n",
      "Error occurred unsupported operand type(s) for /: 'int' and 'str'\n"
     ]
    }
   ],
   "source": [
    "#Write your solution here:\n"
   ]
  },
  {
   "cell_type": "markdown",
   "metadata": {},
   "source": [
    "### TASK: A program is required to calculate the value of a gift voucher to be rewarded to bookshop customers. \n",
    "There are three possible voucher values:\n",
    "\n",
    "£15 if a customer buys 10 or more books,\n",
    "£5 if a customer buys 5 books and the total value of those books is more than £50,\n",
    "£1 for all other customers.\n",
    "The program must:\n",
    "\n",
    "- Allow the user to enter the number of books bought.\n",
    "- Using a try except block check that a positive number has been entered.\n",
    "- Allow the user to enter the total value of the order.\n",
    "- Using a try except check that a positive number has been entered.\n",
    "- Calculate the voucher value based on the rules above.\n",
    "- Output the voucher value. \n",
    "\n",
    "Can you write the code?"
   ]
  },
  {
   "cell_type": "code",
   "execution_count": null,
   "metadata": {},
   "outputs": [],
   "source": []
  },
  {
   "cell_type": "markdown",
   "metadata": {},
   "source": [
    "### Task create a menu for an airline company that checks input\n",
    "\n",
    "Can you write a program that presents the user with a menu in a function for an aeroplane repair shop these are the possible options:\n",
    "\n",
    "        print(\"#### Please choose a reason for current job ####\")\n",
    "\n",
    "        print('## 1. Annual service')\n",
    "        \n",
    "        print(\"## 2. Cosmetic repair\")\n",
    "        \n",
    "        print(\"## 3. Mechanical repair - body\")\n",
    "        \n",
    "        print(\"## 4. Mechanical repair - wing\")\n",
    "        \n",
    "        print(\"## 5. Mechanical repair - engine\") \n",
    "\n",
    "- You need to keep asking the user for input until their input is correct\n",
    "- You need to use a try catch block to check the input is valid (1-5)\n",
    "\n",
    "### Extra to give function practice\n",
    "- Can you build this into a function you call, the function should return the valid result they have selected\n",
    "- You must deal with the result passed and call a function for each menu choice, those funcitons just have to say you have selected this choice"
   ]
  },
  {
   "cell_type": "code",
   "execution_count": null,
   "metadata": {},
   "outputs": [],
   "source": []
  },
  {
   "cell_type": "markdown",
   "metadata": {},
   "source": [
    "# Tasks: To practice different types of error checking using try except blocks"
   ]
  },
  {
   "cell_type": "markdown",
   "metadata": {},
   "source": [
    "1) Presence Check with Error Handling:​\n",
    "\n",
    "Write a program that prompts the user to enter their name and ensures it is not empty. Use try-except to catch errors if the input function fails unexpectedly.​"
   ]
  },
  {
   "cell_type": "code",
   "execution_count": null,
   "metadata": {},
   "outputs": [],
   "source": []
  },
  {
   "cell_type": "markdown",
   "metadata": {},
   "source": [
    "2) Type Check with Error Handling:​\n",
    "\n",
    "Create a program that asks the user for their age. Use try-except to catch errors if the user enters non-numeric input.​\n",
    "\n"
   ]
  },
  {
   "cell_type": "code",
   "execution_count": null,
   "metadata": {},
   "outputs": [],
   "source": []
  },
  {
   "cell_type": "markdown",
   "metadata": {},
   "source": [
    "3)  Division with Error Handling:​\n",
    "\n",
    "Write a program that divides 100 by a number entered by the user. Use try-except to catch division by zero and invalid input errors.​"
   ]
  },
  {
   "cell_type": "code",
   "execution_count": null,
   "metadata": {},
   "outputs": [],
   "source": []
  },
  {
   "cell_type": "markdown",
   "metadata": {},
   "source": [
    "## Stretch tasks"
   ]
  },
  {
   "cell_type": "markdown",
   "metadata": {},
   "source": [
    "4) File Handling with Error Handling:​\n",
    "\n",
    "- Write a program that opens a file for reading. \n",
    "- Create a function called file reader in which you pass in the name of the file to read\n",
    "- Use try-except to handle cases where the file does not exist or cannot be opened.​"
   ]
  },
  {
   "cell_type": "code",
   "execution_count": null,
   "metadata": {},
   "outputs": [],
   "source": []
  },
  {
   "cell_type": "markdown",
   "metadata": {},
   "source": [
    "5) Complex Input Validation:​\n",
    "\n",
    "- Write a program that validates an email address entered by the user. \n",
    "- The input is passed as a parameter to a function called validate, the function returns true or false depending on if it is valid\n",
    "- Use try-except to handle unexpected errors, and ensure the email has a valid format (e.g., contains @ and a domain)."
   ]
  },
  {
   "cell_type": "code",
   "execution_count": null,
   "metadata": {},
   "outputs": [],
   "source": []
  },
  {
   "cell_type": "markdown",
   "metadata": {},
   "source": [
    "## These exceptions are frequently encountered in Python programs:\n",
    "\n",
    "ArithmeticError\tBase class for arithmetic-related errors.\n",
    "\n",
    "ZeroDivisionError\tRaised when dividing by zero.\n",
    "\n",
    "OverflowError\tRaised when a calculation exceeds the range of the data type (e.g., too large for int).\n",
    "\n",
    "ValueError\tRaised when an operation or function receives an invalid argument (e.g., int(\"abc\")).\n",
    "\n",
    "TypeError\tRaised when an operation is performed on an unsupported data type.\n",
    "\n",
    "IndexError\tRaised when trying to access an index that is out of range in a list or sequence.\n",
    "\n",
    "KeyError\tRaised when trying to access a dictionary key that doesn’t exist.\n",
    "\n",
    "NameError\tRaised when a variable or name is not defined.\n",
    "\n",
    "UnboundLocalError\tSubclass of NameError for accessing a local variable before it's assigned a value.\n",
    "\n",
    "FileNotFoundError\tRaised when attempting to open a file that does not exist.\n",
    "\n",
    "IOError\tRaised when an I/O operation fails (e.g., file read/write).\n",
    "\n",
    "AttributeError\tRaised when an invalid attribute reference is made.\n",
    "\n",
    "RuntimeError\tRaised when an error occurs that doesn’t fit another category.\n",
    "\n",
    "ImportError\tRaised when a module cannot be imported.\n",
    "\n",
    "ModuleNotFoundError\tSubclass of ImportError, raised when a module cannot be found.\n",
    "\n",
    "StopIteration\tRaised when an iterator is exhausted.\n",
    "\n",
    "KeyboardInterrupt\tRaised when the user interrupts program execution (e.g., pressing Ctrl+C).\n",
    "\n",
    "SyntaxError\tRaised when there is a syntax error in the code.\n",
    "\n",
    "IndentationError\tRaised when the code is improperly indented.\n",
    "\n",
    "NotImplementedError\tRaised when a feature or function is not implemented.\n",
    "\n",
    "Arithmetic and Numeric Exceptions\n",
    "\n",
    "\n",
    "These exceptions deal with numeric operations:\n",
    "\n",
    "Exception Name\tDescription\n",
    "\n",
    "FloatingPointError\tRaised when a floating-point operation fails.\n",
    "\n",
    "ArithmeticError\tBase class for all arithmetic exceptions (e.g., ZeroDivisionError).\n",
    "\n",
    "OverflowError\tRaised when the result of a calculation is too large to handle."
   ]
  }
 ],
 "metadata": {
  "kernelspec": {
   "display_name": "Python 3",
   "language": "python",
   "name": "python3"
  },
  "language_info": {
   "codemirror_mode": {
    "name": "ipython",
    "version": 3
   },
   "file_extension": ".py",
   "mimetype": "text/x-python",
   "name": "python",
   "nbconvert_exporter": "python",
   "pygments_lexer": "ipython3",
   "version": "3.12.0"
  }
 },
 "nbformat": 4,
 "nbformat_minor": 2
}
