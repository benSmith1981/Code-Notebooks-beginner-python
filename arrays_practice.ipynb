{
 "cells": [
  {
   "cell_type": "markdown",
   "metadata": {},
   "source": [
    "## Understanding Arrays in Python\n",
    "\n",
    "# Introduction\n",
    "Arrays are a way to store multiple values of the same type in a single variable. In Python, arrays are commonly represented using lists, but the `array` module or libraries like `numpy` provide more efficient array structures.\n",
    "\n"
   ]
  },
  {
   "cell_type": "markdown",
   "metadata": {},
   "source": [
    "# Section 1: Creating and Accessing Arrays (Using Lists)\n",
    "In Python, the simplest form of an array is a list. Let's start by creating and accessing a list."
   ]
  },
  {
   "cell_type": "code",
   "execution_count": null,
   "metadata": {},
   "outputs": [],
   "source": [
    "# Example: Creating and Accessing Elements\n",
    "my_array = [10, 20, 30, 40, 50]\n",
    "\n",
    "# Accessing elements\n",
    "print(\"First element:\", my_array[0])\n",
    "print(\"Last element:\", my_array[-1])\n",
    "\n",
    "# Accessing slices\n",
    "print(\"First three elements:\", my_array[:3])\n",
    "print(\"Last two elements:\", my_array[-2:])"
   ]
  },
  {
   "cell_type": "markdown",
   "metadata": {},
   "source": [
    "## Section 2: Array Operations\n",
    "Adding and Removing Elements\n",
    "\n",
    "You can add elements to an array using `.append()` or `.extend()` and remove elements using `.pop()` or `.remove()`.\n"
   ]
  },
  {
   "cell_type": "code",
   "execution_count": null,
   "metadata": {},
   "outputs": [],
   "source": [
    "# Adding elements\n",
    "my_array.append(60)\n",
    "print(\"After appending 60:\", my_array)\n",
    "\n",
    "# Removing elements\n",
    "my_array.remove(20)\n",
    "print(\"After removing 20:\", my_array)\n",
    "\n",
    "# ### Looping Through Arrays\n",
    "# Example: Print each element in the array\n",
    "for element in my_array:\n",
    "    print(\"Element:\", element)\n",
    "\n",
    "# ### Exercise 1:\n",
    "# Create an array of five numbers and:\n",
    "# 1. Add two more numbers to it.\n",
    "# 2. Remove the second element.\n",
    "# 3. Print all elements using a loop."
   ]
  },
  {
   "cell_type": "markdown",
   "metadata": {},
   "source": [
    "## Section 3: Using Arrays from the array Module\n",
    "The `array` module provides a more specialized array data structure that stores elements of the same type.\n",
    "\n"
   ]
  },
  {
   "cell_type": "code",
   "execution_count": null,
   "metadata": {},
   "outputs": [],
   "source": [
    "import array\n",
    "\n",
    "# Creating an array of integers\n",
    "int_array = array.array('i', [1, 2, 3, 4, 5])\n",
    "\n",
    "# Accessing elements\n",
    "print(\"First element:\", int_array[0])\n",
    "\n",
    "# Adding an element\n",
    "int_array.append(6)\n",
    "print(\"Array after appending 6:\", int_array)\n",
    "\n",
    "# Removing an element\n",
    "int_array.remove(3)\n",
    "print(\"Array after removing 3:\", int_array)\n",
    "\n",
    "# ### Exercise 2:\n",
    "# Create an array of floats using the `array` module and:\n",
    "# 1. Add a new float value.\n",
    "# 2. Remove the third value.\n",
    "# 3. Print the updated array."
   ]
  },
  {
   "cell_type": "markdown",
   "metadata": {},
   "source": [
    "## Section 5: Practice Tasks"
   ]
  },
  {
   "cell_type": "code",
   "execution_count": null,
   "metadata": {},
   "outputs": [],
   "source": [
    "# 1. Write a function that takes an array of numbers and returns the sum of all its elements.\n",
    "# 2. Write a function that takes an array and returns the largest number in the array.\n",
    "# 3. Write a function that reverses the array.\n",
    "\n",
    "# Example:\n",
    "# Input: [1, 2, 3, 4]\n",
    "# Output: [4, 3, 2, 1]\n"
   ]
  },
  {
   "cell_type": "markdown",
   "metadata": {},
   "source": [
    "## Section 6: Coding Problems"
   ]
  },
  {
   "cell_type": "code",
   "execution_count": null,
   "metadata": {},
   "outputs": [],
   "source": [
    "# Problem 1: Even Numbers in an Array\n",
    "# Write a function `find_even_numbers` that:\n",
    "# - Takes an array of integers as input.\n",
    "# - Returns a new array containing only the even numbers.\n",
    "\n",
    "# Example:\n",
    "# Input: [1, 2, 3, 4, 5, 6]\n",
    "# Output: [2, 4, 6]\n",
    "\n"
   ]
  },
  {
   "cell_type": "code",
   "execution_count": null,
   "metadata": {},
   "outputs": [],
   "source": [
    "# ### Problem 2: Average of an Array\n",
    "# Write a function `calculate_average` that:\n",
    "# - Takes an array of numbers as input.\n",
    "# - Returns the average of the numbers.\n",
    "\n",
    "# Example:\n",
    "# Input: [10, 20, 30, 40]\n",
    "# Output: 25.0\n"
   ]
  },
  {
   "cell_type": "code",
   "execution_count": null,
   "metadata": {},
   "outputs": [],
   "source": [
    "# ### Problem 3: Array Rotation\n",
    "# Write a function `rotate_array` that:\n",
    "# - Takes an array and a number `n` as input.\n",
    "# - Rotates the array to the left by `n` positions.\n",
    "\n",
    "# Example:\n",
    "# Input: [1, 2, 3, 4, 5], n=2\n",
    "# Output: [3, 4, 5, 1, 2]"
   ]
  }
 ],
 "metadata": {
  "language_info": {
   "name": "python"
  }
 },
 "nbformat": 4,
 "nbformat_minor": 2
}
