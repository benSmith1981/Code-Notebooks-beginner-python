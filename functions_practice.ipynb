{
 "cells": [
  {
   "cell_type": "markdown",
   "metadata": {},
   "source": [
    "## Understanding Functions in Python\n",
    "\n",
    "Introduction\n",
    "Functions are reusable blocks of code that allow you to organize your program into manageable pieces. They take inputs, perform some operations, and can return outputs. In Python, functions are defined using the `def` keyword.\n",
    "\n",
    "Syntax of a Function\n",
    "\n",
    "'''\n",
    "def function_name(parameters):\n",
    "    return value\n",
    "'''"
   ]
  },
  {
   "cell_type": "code",
   "execution_count": 1,
   "metadata": {},
   "outputs": [
    {
     "name": "stdout",
     "output_type": "stream",
     "text": [
      "Hello, Alice!\n"
     ]
    }
   ],
   "source": [
    "# ### Example\n",
    "def greet_user(name):\n",
    "    \"\"\"This function greets the user by name.\"\"\"\n",
    "    return f\"Hello, {name}!\"\n",
    "\n",
    "# Calling the function\n",
    "print(greet_user(\"Alice\"))"
   ]
  },
  {
   "cell_type": "markdown",
   "metadata": {},
   "source": [
    "## Section 1: Understanding Parameters and Return Values"
   ]
  },
  {
   "cell_type": "code",
   "execution_count": 2,
   "metadata": {},
   "outputs": [
    {
     "name": "stdout",
     "output_type": "stream",
     "text": [
      "The result of addition is: 12\n"
     ]
    }
   ],
   "source": [
    "# Functions can take inputs called **parameters**. These parameters are used inside the function to perform operations.\n",
    "\n",
    "# Example: Adding Two Numbers\n",
    "def add_numbers(num1, num2):\n",
    "    \"\"\"Adds two numbers and returns the result.\"\"\"\n",
    "    return num1 + num2\n",
    "\n",
    "# Call the function\n",
    "result = add_numbers(5, 7)\n",
    "print(f\"The result of addition is: {result}\")"
   ]
  },
  {
   "cell_type": "markdown",
   "metadata": {},
   "source": [
    "# Exercise 1:\n",
    "### Create a function that takes two numbers as inputs, multiplies them, and returns the result. Call the function with any two numbers of your choice."
   ]
  },
  {
   "cell_type": "code",
   "execution_count": null,
   "metadata": {},
   "outputs": [],
   "source": []
  },
  {
   "cell_type": "markdown",
   "metadata": {},
   "source": [
    "## Section 2: Functions Without Return Values OR procedures"
   ]
  },
  {
   "cell_type": "code",
   "execution_count": null,
   "metadata": {},
   "outputs": [],
   "source": [
    "# Not all functions need to return a value. Some functions perform an action, like printing output.\n",
    "\n",
    "# Example: Printing a Message\n",
    "def display_message():\n",
    "    \"\"\"Displays a simple message.\"\"\"\n",
    "    print(\"Welcome to learning functions in Python!\")\n",
    "\n",
    "# Call the function\n",
    "display_message()"
   ]
  },
  {
   "cell_type": "markdown",
   "metadata": {},
   "source": [
    "# Exercise 2:\n",
    "## Write a function that prints your favorite quote. Call the function to see the output."
   ]
  },
  {
   "cell_type": "code",
   "execution_count": null,
   "metadata": {},
   "outputs": [],
   "source": []
  },
  {
   "cell_type": "markdown",
   "metadata": {},
   "source": [
    "## Section 3: Default Parameters"
   ]
  },
  {
   "cell_type": "code",
   "execution_count": null,
   "metadata": {},
   "outputs": [],
   "source": [
    "# Functions can have default values for parameters. If a parameter is not provided, the default value will be used.\n",
    "\n",
    "# Example: Greeting with a Default Name\n",
    "def greet(name=\"Guest\"):\n",
    "    \"\"\"Greets the user with a default name.\"\"\"\n",
    "    return f\"Hello, {name}!\"\n",
    "\n",
    "# Call the function without an argument\n",
    "print(greet())\n",
    "\n",
    "# Call the function with an argument\n",
    "print(greet(\"Charlie\"))"
   ]
  },
  {
   "cell_type": "markdown",
   "metadata": {},
   "source": [
    "# Exercise 3:\n",
    "Write a function that calculates the area of a rectangle. If no value is given for the width, assume it is 1."
   ]
  },
  {
   "cell_type": "code",
   "execution_count": null,
   "metadata": {},
   "outputs": [],
   "source": []
  },
  {
   "cell_type": "markdown",
   "metadata": {},
   "source": [
    "## Section 4: Practice Tasks\n"
   ]
  },
  {
   "cell_type": "code",
   "execution_count": null,
   "metadata": {},
   "outputs": [],
   "source": [
    "# Now it's your turn to practice! Complete the following tasks to reinforce your understanding of functions.\n",
    "\n",
    "# 1. Write a function that takes a number as input and returns whether the number is even or odd.\n",
    "\n",
    "# 2. Write a function that calculates the factorial of a number. The factorial of a number n is defined as n * (n-1) * (n-2) ... * 1.\n",
    "\n",
    "# 3. Write a function that accepts a list of numbers and returns the maximum number in the list.\n"
   ]
  },
  {
   "cell_type": "markdown",
   "metadata": {},
   "source": [
    "### Section 5: Coding Problems\n",
    "\n",
    "## Problem 1: Discount Calculator\n",
    "Write a function `calculate_discount` that:\n",
    "- Takes the original price and discount percentage as inputs.\n",
    "- Calculates the discounted price.\n",
    "- Returns the final price after applying the discount.\n",
    "\n",
    "Example:\n",
    " Enter the original price: 100\n",
    " Enter the discount percentage: 10\n",
    " Final price after discount: 90.0\n"
   ]
  },
  {
   "cell_type": "code",
   "execution_count": null,
   "metadata": {},
   "outputs": [],
   "source": []
  },
  {
   "cell_type": "markdown",
   "metadata": {},
   "source": [
    "## Problem 2: Temperature Converter\n",
    "# Write a function `convert_temperature` that:\n",
    " - Takes a temperature in Celsius as input.\n",
    " - Converts it to Fahrenheit using the formula `F = (C * 9/5) + 32`.\n",
    " - Returns the temperature in Fahrenheit.\n",
    "\n",
    "# Example:\n",
    "Enter temperature in Celsius: 25\n",
    "Temperature in Fahrenheit: 77.0"
   ]
  },
  {
   "cell_type": "code",
   "execution_count": null,
   "metadata": {},
   "outputs": [],
   "source": []
  }
 ],
 "metadata": {
  "kernelspec": {
   "display_name": "Python 3",
   "language": "python",
   "name": "python3"
  },
  "language_info": {
   "codemirror_mode": {
    "name": "ipython",
    "version": 3
   },
   "file_extension": ".py",
   "mimetype": "text/x-python",
   "name": "python",
   "nbconvert_exporter": "python",
   "pygments_lexer": "ipython3",
   "version": "3.12.4"
  }
 },
 "nbformat": 4,
 "nbformat_minor": 2
}
