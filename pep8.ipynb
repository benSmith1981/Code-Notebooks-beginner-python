{
 "cells": [
  {
   "cell_type": "markdown",
   "metadata": {},
   "source": [
    "# PEP 8 Guidelines in Practice\n",
    "\n",
    "PEP 8 (Python Enhancement Proposal 8) is the official style guide for Python code. Adhering to these guidelines helps you write more readable, maintainable, and consistent code.\n",
    "\n",
    "\n",
    "1. **PEP 8** stands for *Python Enhancement Proposal #8*, which outlines Python’s style guide.\n",
    "2. Use **capital letters** for constants, **CapWords** (PascalCase) for classes, **lowercase_with_underscores** for functions and variables.\n",
    "3. Code is more maintainable when you use **clear naming**, **appropriate whitespace**, and **comments**.\n",
    "4. Typically, place **one space** on either side of arithmetic, assignment, and boolean operators.\n",
    "5. The **layout** of your code (indentation, blank lines, grouping) significantly improves readability.\n"
   ]
  },
  {
   "cell_type": "markdown",
   "metadata": {},
   "source": [
    "## 1. Naming Conventions\n",
    "\n",
    "PEP 8 prescribes certain styles for naming:\n",
    "\n",
    "- **Variables**: lowercase, words separated by underscores. Example: `my_variable`.\n",
    "- **Functions**: lowercase, words separated by underscores. Example: `my_function`.\n",
    "- **Constants**: uppercase, words separated by underscores. Example: `MY_CONSTANT`.\n",
    "- **Classes**: use the CapWords convention, sometimes called PascalCase. Example: `MyClass`.\n",
    "\n",
    "> **PEP 8 tip**: Avoid capitalizing single-letter variable names like `O` or `l` because they can be confused with digits `0` or `1`.\n"
   ]
  },
  {
   "cell_type": "code",
   "execution_count": null,
   "metadata": {},
   "outputs": [],
   "source": [
    "# Example: Good and bad naming\n",
    "\n",
    "\n",
    "# BAD naming style:\n",
    "# (These won't break Python, but they are discouraged by PEP 8.)\n",
    "UserName = \"Bob\"     # Class-like naming for a variable\n",
    "MaxAttempts = 10     # Mixed style\n",
    "def DisplayGreeting(Name):\n",
    "    print(f\"Hello, {Name}!\")\n",
    "\n",
    "DisplayGreeting(UserName)\n",
    "\n",
    "# GOOD naming style: How would you fix these according to the rules\n",
    "\n"
   ]
  },
  {
   "cell_type": "markdown",
   "metadata": {},
   "source": [
    "## 2. Use of Comments\n",
    "\n",
    "Comments explain **why** you are doing something, not just **what** is happening. Keep them concise and relevant:\n",
    "\n",
    "- Always use `#` for single-line comments.\n",
    "- Place comments on their own line when describing a block of code.\n",
    "- Inline comments should be used sparingly and only for tricky or non-obvious parts.\n",
    "\n",
    "Example:"
   ]
  },
  {
   "cell_type": "code",
   "execution_count": null,
   "metadata": {},
   "outputs": [],
   "source": [
    "# This function calculates the area of a circle.\n",
    "def area_of_circle(radius):\n",
    "    pi = 3.14159  # approximate value of π\n",
    "    return pi * (radius ** 2)"
   ]
  },
  {
   "cell_type": "markdown",
   "metadata": {},
   "source": [
    "## 3. White Space\n",
    "\n",
    "PEP 8 recommends:\n",
    "\n",
    "- Use spaces around operators (e.g., `x = 1 + 2`).\n",
    "- After a comma, add a space.\n",
    "- Limit lines to a maximum of 79 characters.\n",
    "\n",
    "Compare the **correct** vs. **incorrect** use of space around operators:"
   ]
  },
  {
   "cell_type": "code",
   "execution_count": null,
   "metadata": {},
   "outputs": [],
   "source": [
    "# Incorrect (no spaces around operators, or inconsistent spacing):\n",
    "a=b**5+9\n",
    "c=(a+b)*(a-b)\n",
    "\n",
    "# Correct use of whitespace: Fix this\n"
   ]
  },
  {
   "cell_type": "markdown",
   "metadata": {},
   "source": [
    "## 4. Indentation\n",
    "\n",
    "In Python, indentation is critical because it defines code blocks. PEP 8 recommends using **4 spaces** per indentation level (do **not** mix tabs and spaces). Most modern editors can be configured to insert 4 spaces when you press Tab.\n",
    "\n",
    "Example, fix the below example:"
   ]
  },
  {
   "cell_type": "code",
   "execution_count": null,
   "metadata": {},
   "outputs": [],
   "source": [
    "def my_function(x, y):\n",
    "result = x + y\n",
    "if result > 10:\n",
    "print(\"Result is greater than 10\")\n",
    "else:\n",
    "    print(\"Result is 10 or less\")\n",
    "return result"
   ]
  },
  {
   "cell_type": "markdown",
   "metadata": {},
   "source": [
    "## 5. Structure of the Code (Layout)\n",
    "\n",
    "Readability is enhanced by paying attention to layout:\n",
    "\n",
    "- Keep related code blocks together.\n",
    "- Separate top-level functions and class definitions with **two** blank lines.\n",
    "- Separate method definitions inside a class with **one** blank line.\n",
    "\n",
    "**Example** structure:"
   ]
  },
  {
   "cell_type": "code",
   "execution_count": null,
   "metadata": {},
   "outputs": [],
   "source": [
    "# Imports at the top\n",
    "import math\n",
    "\n",
    "\n",
    "def top_level_function():\n",
    "    \"\"\"\n",
    "    Demonstrates a top-level function.\n",
    "    \"\"\"\n",
    "    pass\n",
    "\n",
    "\n",
    "class MyClass:\n",
    "    \"\"\"\n",
    "    Demonstrates a class with methods.\n",
    "    \"\"\"\n",
    "    def method_one(self, value):\n",
    "        return value * 2\n",
    "\n",
    "    def method_two(self, value):\n",
    "        return value + 3"
   ]
  },
  {
   "cell_type": "markdown",
   "metadata": {},
   "source": [
    "### Task 1:\n",
    "\n",
    "Below is a (deliberately “messy”) code snippet that violates several PEP 8 guidelines from our discussion (naming conventions, spacing, indentation, etc.). Your task is to read it and rewrite it so that it follows PEP 8 style rules.\n"
   ]
  },
  {
   "cell_type": "code",
   "execution_count": null,
   "metadata": {},
   "outputs": [],
   "source": [
    "def calculateVoucher( numberOfBooks , totalOrderValue ):\n",
    "  # check if inputs are positive\n",
    "  if numberOfBooks<0:\n",
    "   return \"Error: invalid input\"\n",
    "  if totalOrderValue<0:return\"Error:invalid input\"\n",
    "  # determine voucher\n",
    "  if numberOfBooks>=10:\n",
    "    voucher=15\n",
    "  elif (numberOfBooks>=5)and(totalOrderValue>50):\n",
    "    voucher=5\n",
    "  else:voucher=1\n",
    "  print(\"Your voucher value is: \",voucher)\n"
   ]
  },
  {
   "cell_type": "markdown",
   "metadata": {},
   "source": [
    "### Task 2:\n",
    "Below is a short snippet that illustrates poor use of comments (excessive, redundant, or misplaced). Your task is to rewrite it so it follows PEP 8 guidelines and employs effective, concise comments."
   ]
  },
  {
   "cell_type": "code",
   "execution_count": null,
   "metadata": {},
   "outputs": [],
   "source": [
    "# THIS FUNCTION IS TOTALLY ABOUT CIRCLES AND WE NEED TO CALCULATE\n",
    "# the area but we are not sure what we are doing maybe we can do something else\n",
    "# It's not entirely relevant but let's do it anyway.\n",
    "\n",
    "def areaOfCircle(r):\n",
    "  # function that returns pi times the radius squared which\n",
    "  # is the area of a circle but let's also mention that pi is 3.14159\n",
    "      pi=3.14159# approximate value of π (maybe?)\n",
    "      return pi*(r**2) # also we might need another comment here\n"
   ]
  }
 ],
 "metadata": {
  "language_info": {
   "name": "python"
  }
 },
 "nbformat": 4,
 "nbformat_minor": 2
}
