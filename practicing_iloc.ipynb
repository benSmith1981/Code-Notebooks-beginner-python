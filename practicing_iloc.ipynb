{
 "cells": [
  {
   "cell_type": "markdown",
   "id": "42111cb9-7afa-484f-9347-9e0c6ecc9541",
   "metadata": {},
   "source": [
    "# To do this worksheet you need to run the code by selecting the cell and pressing play"
   ]
  },
  {
   "cell_type": "code",
   "execution_count": 1,
   "id": "6c5be596-5a53-4198-a844-49c480fcce64",
   "metadata": {},
   "outputs": [
    {
     "name": "stdout",
     "output_type": "stream",
     "text": [
      "Dataset:\n",
      "      Name  Age  Grade  Subject         City\n",
      "0    Alice   25     85     Math     New York\n",
      "1      Bob   30     78  English  Los Angeles\n",
      "2  Charlie   35     92  History      Chicago\n",
      "3    David   40     88     Math      Houston\n",
      "4      Eve   45     95  English      Phoenix\n"
     ]
    }
   ],
   "source": [
    "# Introduction to iloc in Pandas\n",
    "\n",
    "# Import Pandas\n",
    "import pandas as pd\n",
    "\n",
    "# Create a simple dataset\n",
    "data = {\n",
    "    \"Name\": [\"Alice\", \"Bob\", \"Charlie\", \"David\", \"Eve\"],\n",
    "    \"Age\": [25, 30, 35, 40, 45],\n",
    "    \"Grade\": [85, 78, 92, 88, 95],\n",
    "    \"Subject\": [\"Math\", \"English\", \"History\", \"Math\", \"English\"],\n",
    "    \"City\": [\"New York\", \"Los Angeles\", \"Chicago\", \"Houston\", \"Phoenix\"]\n",
    "}\n",
    "\n",
    "# Create the DataFrame\n",
    "df = pd.DataFrame(data)\n",
    "\n",
    "# Display the DataFrame\n",
    "print(\"Dataset:\")\n",
    "print(df)\n"
   ]
  },
  {
   "cell_type": "markdown",
   "id": "e33fc635-d4d1-4f9c-9c98-a95d64bbb349",
   "metadata": {},
   "source": [
    "# Section 1: Selecting Rows"
   ]
  },
  {
   "cell_type": "code",
   "execution_count": 14,
   "id": "daeab7e6-d3b0-438c-a790-6f8653270277",
   "metadata": {},
   "outputs": [
    {
     "name": "stdout",
     "output_type": "stream",
     "text": [
      "Alice\n",
      "30\n",
      "      Name  Age  Grade  Subject         City\n",
      "0    Alice   25     85     Math     New York\n",
      "1      Bob   30     78  English  Los Angeles\n",
      "2  Charlie   35     92  History      Chicago\n",
      "First row:\n",
      "Name          Alice\n",
      "Age              25\n",
      "Grade            85\n",
      "Subject        Math\n",
      "City       New York\n",
      "Name: 0, dtype: object\n",
      "Name       Charlie\n",
      "Age             35\n",
      "Grade           92\n",
      "Subject    History\n",
      "City       Chicago\n",
      "Name: 2, dtype: object\n",
      "\n",
      "First 3 rows:\n",
      "      Name  Age  Grade  Subject         City\n",
      "1      Bob   30     78  English  Los Angeles\n",
      "2  Charlie   35     92  History      Chicago\n",
      "3    David   40     88     Math      Houston\n",
      "4      Eve   45     95  English      Phoenix\n",
      "\n",
      "Last row:\n",
      "Name           Eve\n",
      "Age             45\n",
      "Grade           95\n",
      "Subject    English\n",
      "City       Phoenix\n",
      "Name: 4, dtype: object\n"
     ]
    }
   ],
   "source": [
    "# Select a specific cell by coordinates\n",
    "print(df.iloc[0,0])\n",
    "\n",
    "#what does this output?\n",
    "print(df.iloc[1,1])\n",
    "\n",
    "\n",
    "# Select the first row\n",
    "print(\"First row:\")\n",
    "print(df.iloc[0])\n",
    "\n",
    "# What does this output?\n",
    "\n",
    "\n",
    "# Select the first 1-4 rows\n",
    "print(\"\\nFirst 1-4 rows:\")\n",
    "\n",
    "\n",
    "\n",
    "print()\n",
    "\n",
    "# Select the last row\n",
    "\n"
   ]
  },
  {
   "cell_type": "markdown",
   "id": "86ac5141-4fc2-4eef-9283-abe346f7e1d2",
   "metadata": {},
   "source": [
    "# Section 2: Selecting Columns"
   ]
  },
  {
   "cell_type": "code",
   "execution_count": 22,
   "id": "f5e935a0-8233-42e4-8d2d-ff5bd8c0c552",
   "metadata": {},
   "outputs": [
    {
     "name": "stdout",
     "output_type": "stream",
     "text": [
      "      Name  Age  Grade  Subject         City\n",
      "0    Alice   25     85     Math     New York\n",
      "1      Bob   30     78  English  Los Angeles\n",
      "2  Charlie   35     92  History      Chicago\n",
      "3    David   40     88     Math      Houston\n",
      "4      Eve   45     95  English      Phoenix\n",
      "First column (Name):\n",
      "0      Alice\n",
      "1        Bob\n",
      "2    Charlie\n",
      "3      David\n",
      "4        Eve\n",
      "Name: Name, dtype: object\n",
      "0       Math\n",
      "1    English\n",
      "2    History\n",
      "Name: Subject, dtype: object\n",
      "\n",
      "Last two columns:\n",
      "   Grade  Subject         City\n",
      "0     85     Math     New York\n",
      "1     78  English  Los Angeles\n",
      "2     92  History      Chicago\n",
      "3     88     Math      Houston\n",
      "4     95  English      Phoenix\n"
     ]
    }
   ],
   "source": [
    "# Select the first column (Name)\n",
    "print(df)\n",
    "print(\"First column (Name):\")\n",
    "print(df.iloc[:, 0])\n",
    "\n",
    "# What does this output?\n",
    "print(df.iloc[:3, 3])\n",
    "\n",
    "\n",
    "# Select the last two columns\n",
    "\n"
   ]
  },
  {
   "cell_type": "markdown",
   "id": "dfa1c857-9945-48a5-86e7-4cc210e80bd9",
   "metadata": {},
   "source": [
    "# Section 3: Selecting Specific Rows and Columns"
   ]
  },
  {
   "cell_type": "code",
   "execution_count": 5,
   "id": "7fcc5635-7471-475a-9d2a-ea0718a6a34c",
   "metadata": {},
   "outputs": [
    {
     "name": "stdout",
     "output_type": "stream",
     "text": [
      "Second row, third column:\n",
      "78\n",
      "\n",
      "First two rows, first two columns:\n",
      "    Name  Age\n",
      "0  Alice   25\n",
      "1    Bob   30\n",
      "\n",
      "Last two rows, last two columns:\n",
      "   Subject     City\n",
      "3     Math  Houston\n",
      "4  English  Phoenix\n",
      "\n",
      "Last two rows, last two columns:\n",
      "3       Math\n",
      "4    English\n",
      "Name: Subject, dtype: object\n"
     ]
    }
   ],
   "source": [
    "# Select the second row and the third column (Age and Grade)\n",
    "print(\"Second row, third column:\")\n",
    "print(df.iloc[1, 2])\n",
    "\n",
    "# Select the first two rows and the first two columns\n",
    "\n",
    "\n",
    "# Select the last two rows and the last two columns\n",
    "\n",
    "# Select the last two rows and the last two columns\n"
   ]
  },
  {
   "cell_type": "markdown",
   "id": "cc5b17d1-cbba-4e07-9412-6be6a9212dc5",
   "metadata": {},
   "source": [
    "# Tasks for Practice\n",
    "\n",
    "Task 1: Extract all rows but only the Name and Grade columns\n",
    "\n",
    "Task 2: Extract the data for the second and fourth rows\n",
    "\n",
    "Task 3: Extract the data for the last three columns\n"
   ]
  },
  {
   "cell_type": "code",
   "execution_count": null,
   "id": "721bfcb9-eef2-4b28-9f88-3bebe1ea0bfe",
   "metadata": {},
   "outputs": [],
   "source": [
    "name_grade_allrows = df.iloc[:,df.loc[['Name', 'Grade']]]\n",
    "print(name_grade_allrows)"
   ]
  },
  {
   "cell_type": "markdown",
   "id": "9ce6b1d3-0f9f-40ca-b36f-07253533fa25",
   "metadata": {},
   "source": [
    "## Challenge Task\n",
    "Challenge: Calculate the average grade for students over 30 years old\n",
    "Extract relevant rows and columns\n"
   ]
  },
  {
   "cell_type": "code",
   "execution_count": 26,
   "id": "a317d6a4-1ef0-4794-855e-ccde03b38a4a",
   "metadata": {},
   "outputs": [
    {
     "name": "stdout",
     "output_type": "stream",
     "text": [
      "91.66666666666667\n"
     ]
    }
   ],
   "source": []
  }
 ],
 "metadata": {
  "kernelspec": {
   "display_name": "Python 3",
   "language": "python",
   "name": "python3"
  },
  "language_info": {
   "codemirror_mode": {
    "name": "ipython",
    "version": 3
   },
   "file_extension": ".py",
   "mimetype": "text/x-python",
   "name": "python",
   "nbconvert_exporter": "python",
   "pygments_lexer": "ipython3",
   "version": "3.12.4"
  }
 },
 "nbformat": 4,
 "nbformat_minor": 5
}
