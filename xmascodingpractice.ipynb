{
 "cells": [
  {
   "cell_type": "markdown",
   "metadata": {},
   "source": [
    "# 1. Xmas Coding fun Introduction\n",
    "Welcome to the holiday-themed Python notebook! Today, we’ll combine some Christmas spirit with programming fundamentals. You’ll learn about functions, create and manipulate arrays (lists in Python), and solve fun exercises with a festive flair.\n",
    "\n",
    "Key Concepts:\n",
    "\n",
    "Functions: Blocks of reusable code that perform a specific task.\n",
    "Arrays (Lists in Python): Ordered collections of items that you can index, slice, and iterate over."
   ]
  },
  {
   "cell_type": "markdown",
   "metadata": {},
   "source": [
    "# 2. Functions in Python\n",
    "A function is like a recipe: it takes some input, does something with it, and returns a result. To define a function in Python, we use the def keyword. For example:"
   ]
  },
  {
   "cell_type": "code",
   "execution_count": 1,
   "metadata": {},
   "outputs": [],
   "source": [
    "def say_hello():\n",
    "    print(\"Hello!\")\n"
   ]
  },
  {
   "cell_type": "markdown",
   "metadata": {},
   "source": [
    "When we call say_hello(), it prints \"Hello!\".\n",
    "\n",
    "Let’s try a more Christmas-themed function."
   ]
  },
  {
   "cell_type": "code",
   "execution_count": null,
   "metadata": {},
   "outputs": [],
   "source": []
  },
  {
   "cell_type": "code",
   "execution_count": 2,
   "metadata": {},
   "outputs": [
    {
     "name": "stdout",
     "output_type": "stream",
     "text": [
      "Merry Christmas!\n"
     ]
    }
   ],
   "source": [
    "def say_merry_christmas():\n",
    "    print(\"Merry Christmas!\")\n",
    "\n",
    "# Call the function\n",
    "say_merry_christmas()\n"
   ]
  },
  {
   "cell_type": "markdown",
   "metadata": {},
   "source": [
    "Expected Output: Merry Christmas!\n"
   ]
  },
  {
   "cell_type": "markdown",
   "metadata": {},
   "source": [
    "# 2.1 Functions with Parameters\n",
    "Markdown Cell: Functions can take inputs called parameters. For example, we can create a function that takes a person’s name and prints out a personalized Christmas greeting.\n",
    "\n",
    "Expected Output:\n",
    "\n",
    "Merry Christmas, Alice!"
   ]
  },
  {
   "cell_type": "code",
   "execution_count": null,
   "metadata": {},
   "outputs": [],
   "source": [
    "def greet_person(name):\n",
    "    print(\"Merry Christmas, \" + name + \"!\")\n",
    "    \n",
    "# Test the function\n",
    "greet_person(\"Alice\")\n"
   ]
  },
  {
   "cell_type": "markdown",
   "metadata": {},
   "source": [
    "# 2.2 Functions that Return Values\n",
    "Markdown Cell: Functions can also return values rather than just print something. For example, suppose we want a function that returns how many candy canes we have after eating one."
   ]
  },
  {
   "cell_type": "code",
   "execution_count": null,
   "metadata": {},
   "outputs": [],
   "source": [
    "def candy_canes_left(initial_count):\n",
    "    # Eat one candy cane\n",
    "    remaining = initial_count - 1\n",
    "    return remaining\n",
    "\n",
    "# Test the function\n",
    "print(\"Candy canes left:\", candy_canes_left(10))\n"
   ]
  },
  {
   "cell_type": "markdown",
   "metadata": {},
   "source": [
    "Expected Output:\n",
    "\n",
    "Candy canes left: 9"
   ]
  },
  {
   "cell_type": "markdown",
   "metadata": {},
   "source": [
    "# 3. Arrays (Lists) in Python\n",
    "Markdown Cell: In Python, the most common array-like structure is a list. Lists are collections of items enclosed in square brackets [].\n",
    "\n",
    "For example, here’s a list of Christmas ornaments:"
   ]
  },
  {
   "cell_type": "code",
   "execution_count": null,
   "metadata": {},
   "outputs": [],
   "source": [
    "ornaments = [\"Star\", \"Bell\", \"Candy Cane\", \"Snowflake\"]\n",
    "print(\"Our list of ornaments:\", ornaments)\n"
   ]
  },
  {
   "cell_type": "markdown",
   "metadata": {},
   "source": [
    "Expected Output:\n",
    "\n",
    "Our list of ornaments: ['Star', 'Bell', 'Candy Cane', 'Snowflake']"
   ]
  },
  {
   "cell_type": "markdown",
   "metadata": {},
   "source": [
    "# 3.1 Accessing Elements in a List\n",
    "You can access elements in a list using their index (starting from 0):"
   ]
  },
  {
   "cell_type": "code",
   "execution_count": null,
   "metadata": {},
   "outputs": [],
   "source": [
    "print(\"The first ornament is:\", ornaments[0])\n",
    "print(\"The second ornament is:\", ornaments[1])\n"
   ]
  },
  {
   "cell_type": "markdown",
   "metadata": {},
   "source": [
    "Expected Output:\n",
    "\n",
    "The first ornament is: Star\n",
    "The second ornament is: Bell"
   ]
  },
  {
   "cell_type": "markdown",
   "metadata": {},
   "source": [
    "# 3.2 Modifying and Adding Items\n",
    "We can modify items by assigning to an index, or add new items using .append()."
   ]
  },
  {
   "cell_type": "code",
   "execution_count": null,
   "metadata": {},
   "outputs": [],
   "source": [
    "ornaments[1] = \"Angel\"    # Change 'Bell' to 'Angel'\n",
    "ornaments.append(\"Gingerbread Man\") # Add a new ornament\n",
    "\n",
    "print(\"Modified ornaments list:\", ornaments)\n"
   ]
  },
  {
   "cell_type": "markdown",
   "metadata": {},
   "source": [
    "Expected Output:\n",
    "\n",
    "Modified ornaments list: ['Star', 'Angel', 'Candy Cane', 'Snowflake', 'Gingerbread Man']\n"
   ]
  },
  {
   "cell_type": "markdown",
   "metadata": {},
   "source": [
    "3.3 Looping Through a List\n",
    "To process each item in a list, we can use a for loop:"
   ]
  },
  {
   "cell_type": "code",
   "execution_count": null,
   "metadata": {},
   "outputs": [],
   "source": [
    "for ornament in ornaments:\n",
    "    print(\"This ornament is a\", ornament)\n"
   ]
  },
  {
   "cell_type": "markdown",
   "metadata": {},
   "source": [
    "Expected Output:\n",
    "\n",
    "This ornament is a Star\n",
    "\n",
    "This ornament is a Angel\n",
    "\n",
    "This ornament is a Candy Cane\n",
    "\n",
    "This ornament is a Snowflake\n",
    "\n",
    "This ornament is a Gingerbread Man"
   ]
  },
  {
   "cell_type": "markdown",
   "metadata": {},
   "source": [
    "# 4. Combining Functions and Lists\n",
    "We can write functions that accept lists as parameters, process them, and return new lists or values. For example, let’s say we have a list of presents under the tree, and we want a function to count how many there are."
   ]
  },
  {
   "cell_type": "code",
   "execution_count": null,
   "metadata": {},
   "outputs": [],
   "source": [
    "def count_presents(presents_list):\n",
    "    return len(presents_list)\n",
    "\n",
    "presents = [\"Toy Car\", \"Doll\", \"Board Game\", \"Bicycle\"]\n",
    "print(\"Number of presents:\", count_presents(presents))\n"
   ]
  },
  {
   "cell_type": "markdown",
   "metadata": {},
   "source": [
    "Expected Output:\n",
    "\n",
    "Number of presents: 4"
   ]
  },
  {
   "cell_type": "markdown",
   "metadata": {},
   "source": [
    "We can also create functions that transform the items in a list. For example, let’s say we want to shout out each Christmas greeting in uppercase letters."
   ]
  },
  {
   "cell_type": "code",
   "execution_count": null,
   "metadata": {},
   "outputs": [],
   "source": [
    "def shout_greetings(greetings_list):\n",
    "    shouted = []\n",
    "    for greeting in greetings_list:\n",
    "        shouted.append(greeting.upper())\n",
    "    return shouted\n",
    "\n",
    "greetings = [\"merry christmas\", \"happy holidays\", \"season's greetings\"]\n",
    "print(\"Original greetings:\", greetings)\n",
    "print(\"Shouted greetings:\", shout_greetings(greetings))\n"
   ]
  },
  {
   "cell_type": "markdown",
   "metadata": {},
   "source": [
    "Expected Output:\n",
    "\n",
    "Original greetings: ['merry christmas', 'happy holidays', \"season's greetings\"]\n",
    "\n",
    "Shouted greetings: ['MERRY CHRISTMAS', 'HAPPY HOLIDAYS', \"SEASON'S GREETINGS\"]"
   ]
  },
  {
   "cell_type": "markdown",
   "metadata": {},
   "source": [
    "# 5. Practice exercises\n",
    "## 1. Total Christmas Gift Costs\n",
    "Description:\n",
    "Write a function that takes a list of item prices (numbers) and returns the total cost of all the gifts. This seems straightforward, but challenge yourself to do it in a single loop or even by using built-in functions.\n",
    "\n",
    "Example:\n",
    "If the input is [10.99, 5.50, 2.00, 20.00], the output should be 38.49."
   ]
  },
  {
   "cell_type": "code",
   "execution_count": null,
   "metadata": {},
   "outputs": [],
   "source": [
    "def total_gift_cost(prices):\n",
    "    # TODO: Return the sum of all numbers in the list 'prices'\n",
    "    # Consider using a loop or a built-in function like sum()\n",
    "    pass\n",
    "\n",
    "# Test:\n",
    "gift_prices = [10.99, 5.50, 2.00, 20.00]\n",
    "print(total_gift_cost(gift_prices))  # Expected: 38.49\n"
   ]
  },
  {
   "cell_type": "markdown",
   "metadata": {},
   "source": [
    "## 1.1 Exercise: Counting Santa’s Presents\n",
    "Description:\n",
    "Santa has a list of items he needs to organize. Some of these items are presents that need to go under the tree, and others are decorations or supplies. Write a function that takes a list of items and returns the number of items that are exactly \"present\".\n",
    "\n",
    "Example:\n",
    "If the input list is [\"present\", \"present\", \"candy cane\", \"ornament\", \"present\"], the output should be 3."
   ]
  },
  {
   "cell_type": "code",
   "execution_count": null,
   "metadata": {},
   "outputs": [],
   "source": [
    "def count_presents(item_list):\n",
    "    # TODO: Return how many items in 'item_list' are the string \"present\"\n",
    "    pass\n",
    "\n",
    "# Test:\n",
    "items = [\"present\", \"candy cane\", \"present\", \"ornament\", \"present\", \"bell\"]\n",
    "print(count_presents(items))  \n",
    "# Expected output: 3"
   ]
  },
  {
   "cell_type": "markdown",
   "metadata": {},
   "source": [
    "# 2. Count Long-Named Ornaments\n",
    "Description:\n",
    "Create a function that counts how many ornaments have names longer than a certain length. For example, given a list of ornament names and a number length, count how many names have more characters than length.\n",
    "\n",
    "Example:\n",
    "If the input list is [\"Star\", \"Gingerbread Man\", \"Bell\", \"Candy Cane\"] and length=4, the output should be 2 (because \"Gingerbread Man\" and \"Candy Cane\" are longer than 4 characters)."
   ]
  },
  {
   "cell_type": "code",
   "execution_count": null,
   "metadata": {},
   "outputs": [],
   "source": [
    "def count_long_ornaments(ornament_list, length):\n",
    "    # TODO: Count how many ornament names in 'ornament_list' have a length > 'length'\n",
    "    pass\n",
    "\n",
    "# Test:\n",
    "ornaments = [\"Star\", \"Gingerbread Man\", \"Bell\", \"Candy Cane\"]\n",
    "print(count_long_ornaments(ornaments, 4))  # Expected: 2\n"
   ]
  },
  {
   "cell_type": "markdown",
   "metadata": {},
   "source": [
    "# 3. Filter Out Non-Festive Words\n",
    "Description:\n",
    "Write a function that takes a list of words and returns a new list containing only those words that start with \"snow\" or \"holly\". Think carefully about how to check the start of each word. This tests string methods and conditional logic.\n",
    "\n",
    "Example:\n",
    "If the input is [\"snowflake\", \"hollyberry\", \"candle\", \"snowman\", \"bell\"], the output should be [\"snowflake\", \"hollyberry\", \"snowman\"]."
   ]
  },
  {
   "cell_type": "code",
   "execution_count": null,
   "metadata": {},
   "outputs": [],
   "source": [
    "def festive_filter(words):\n",
    "    # TODO: Return a new list of only the words that start with 'snow' or 'holly'\n",
    "    pass\n",
    "\n",
    "# Test:\n",
    "test_words = [\"snowflake\", \"hollyberry\", \"candle\", \"snowman\", \"bell\"]\n",
    "print(festive_filter(test_words))  \n",
    "# Expected: [\"snowflake\", \"hollyberry\", \"snowman\"]\n"
   ]
  },
  {
   "cell_type": "markdown",
   "metadata": {},
   "source": [
    "# 4. Reverse the List of Christmas Treats\n",
    "Description:\n",
    "Write a function that takes a list of Christmas treats and returns a new list that is the reverse of the original. The challenge is to do it without using the built-in reverse methods—try using slicing or a loop.\n",
    "\n",
    "Example:\n",
    "If the input is [\"cookies\", \"candy canes\", \"gingerbread\", \"fruitcake\"], the output should be [\"fruitcake\", \"gingerbread\", \"candy canes\", \"cookies\"].\n",
    "\n",
    "Starter Code:"
   ]
  },
  {
   "cell_type": "code",
   "execution_count": null,
   "metadata": {},
   "outputs": [],
   "source": [
    "def reverse_treats(treat_list):\n",
    "    # TODO: Return a reversed version of treat_list without using treat_list.reverse() or reversed()\n",
    "    pass\n",
    "\n",
    "# Test:\n",
    "treats = [\"cookies\", \"candy canes\", \"gingerbread\", \"fruitcake\"]\n",
    "print(reverse_treats(treats))  \n",
    "# Expected: [\"fruitcake\", \"gingerbread\", \"candy canes\", \"cookies\"]\n"
   ]
  },
  {
   "cell_type": "markdown",
   "metadata": {},
   "source": [
    "# 6. Harder Exercises\n",
    "## Exercise 1: Personalized Reindeer Names\n",
    "\n",
    "You have a list of reindeer names: reindeer = [\"Dasher\", \"Dancer\", \"Prancer\", \"Vixen\", \"Comet\", \"Cupid\", \"Donner\", \"Blitzen\"]. \n",
    "\n",
    "Write a function personalize_reindeer that takes a list of names and a string prefix (like \"Santa's \") and returns a new list where each reindeer's name is combined with the prefix.\n",
    "\n",
    "Example:\n",
    "\n",
    "Input: [\"Dasher\", \"Dancer\"], \"Santa's \"\n",
    "Output: [\"Santa's Dasher\", \"Santa's Dancer\"]\n",
    "\n",
    "Expected Output:\n",
    "[\"Santa's Dasher\", \"Santa's Dancer\", \"Santa's Prancer\", \"Santa's Vixen\", \"Santa's Comet\", \"Santa's Cupid\", \"Santa's Donner\", \"Santa's Blitzen\"]"
   ]
  },
  {
   "cell_type": "code",
   "execution_count": null,
   "metadata": {},
   "outputs": [],
   "source": []
  },
  {
   "cell_type": "markdown",
   "metadata": {},
   "source": [
    "# Exercise 2: Count Festive Words\n",
    "Markdown Cell: Write a function count_festive_words that takes a list of words (strings) and returns how many of them contain the substring \"snow\".\n",
    "\n",
    "Example:\n",
    "Input: [\"snowflake\", \"snowball\", \"christmas\", \"snowman\"]\n",
    "\n",
    "Output: 3\n",
    "\n",
    "Expected Output:\n",
    "\n",
    "Number of 'snow' words: 3"
   ]
  },
  {
   "cell_type": "code",
   "execution_count": null,
   "metadata": {},
   "outputs": [],
   "source": []
  },
  {
   "cell_type": "markdown",
   "metadata": {},
   "source": [
    "# Exercise 3: Ornament Sorting\n",
    "Markdown Cell: Write a function sort_ornaments that takes a list of ornaments and returns a new list sorted in alphabetical order. Use Python’s built-in sorted() function.\n",
    "\n",
    "Example:\n",
    "Input: [\"Bell\", \"Angel\", \"Star\"]\n",
    "\n",
    "Output: [\"Angel\", \"Bell\", \"Star\"]\n",
    "\n",
    "\n",
    "Expected Output:\n",
    "\n",
    "Sorted ornaments: ['Angel', 'Candy Cane', 'Gingerbread Man', 'Snowflake', 'Star']\n"
   ]
  },
  {
   "cell_type": "code",
   "execution_count": null,
   "metadata": {},
   "outputs": [],
   "source": []
  },
  {
   "cell_type": "markdown",
   "metadata": {},
   "source": [
    "# Exercise 4: Holiday Wish List Processor\n",
    "Markdown Cell: Suppose we have a holiday wish list, and we want a function that:\n",
    "\n",
    "Takes a list of items someone wants.\n",
    "Removes any duplicates.\n",
    "Returns a neatly formatted list of unique items\n",
    "\n",
    "\n",
    "Example:\n",
    "Input: [\"toy car\", \"toy car\", \"doll\", \"book\", \"book\"]\n",
    "Output: [\"toy car\", \"doll\", \"book\"]\n",
    "\n",
    "Expected Output:\n",
    "Unique wish list: [\"toy car\", \"doll\", \"book\", \"board game\"]"
   ]
  },
  {
   "cell_type": "code",
   "execution_count": null,
   "metadata": {},
   "outputs": [],
   "source": []
  }
 ],
 "metadata": {
  "kernelspec": {
   "display_name": "Python 3",
   "language": "python",
   "name": "python3"
  },
  "language_info": {
   "codemirror_mode": {
    "name": "ipython",
    "version": 3
   },
   "file_extension": ".py",
   "mimetype": "text/x-python",
   "name": "python",
   "nbconvert_exporter": "python",
   "pygments_lexer": "ipython3",
   "version": "3.12.4"
  }
 },
 "nbformat": 4,
 "nbformat_minor": 2
}
